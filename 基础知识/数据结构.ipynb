{
 "cells": [
  {
   "cell_type": "markdown",
   "id": "902b41c3-faf4-4240-b5e8-640d60344807",
   "metadata": {},
   "source": [
    "# 1 数据结构\n",
    "## 1.1 总结\n",
    "- 内置函数\n",
    "- 操作（增删改查）\n",
    "- 切片\n",
    "### 1.1.1面试题：\n",
    "1. 可变数据类型: list, dictionary, set, numpy array, user defined objects\n",
    "2. 不可变数据类型: integer, float, long, complex, string, tuple, frozenset，强调下 tuple 是不可变的\n",
    "\n",
    "## 1.2 字符串\n",
    "### 1.2.1 内置函数\n",
    "- type 类型\n",
    "- len 长度\n",
    "- str 转化成字符串\n",
    "- type('123')   ##  'str'\n",
    "- in/ not in 判断后者是否包含前者"
   ]
  },
  {
   "cell_type": "code",
   "execution_count": 1,
   "id": "2d342375-525f-42a7-9d8b-8a24f388e067",
   "metadata": {},
   "outputs": [
    {
     "name": "stdout",
     "output_type": "stream",
     "text": [
      "<class 'str'>\n"
     ]
    }
   ],
   "source": [
    "s = '123'\n",
    "print(type(s))"
   ]
  },
  {
   "cell_type": "markdown",
   "id": "586f9ba9-9e97-483c-bfc9-d0588e91288b",
   "metadata": {},
   "source": [
    "### 1.2.2 操作（增、改，删，查）"
   ]
  },
  {
   "cell_type": "markdown",
   "id": "3709aa5b-753b-4081-8817-d63f1cfccf7f",
   "metadata": {
    "tags": []
   },
   "source": [
    "**增加**\n",
    "- `+` 进行字符串拼接\n",
    "- `*` 进行重复字符串 \n",
    "\n",
    "**改变**\n",
    "- 对象.replace（旧字符，新字符），将对象中查到的旧字符全部转化成新字符。\n",
    "- 无法简单的通过字符串的索引去改变元素  \n",
    "\n",
    "**删除**\n",
    "- 删除两边字符：strip（）默认空格\n",
    "- 删除指定字符：对象.replace(指定字符，'') \n",
    "- 提取指定位置字符并删除其他字符：对象[start:end:step]   \n",
    "\n",
    "**查找**\n",
    "- 查找索引：s.find('2')  查不到元素返回 -1\n",
    "- 查找指定位置的元素：s[2]\n",
    "\n",
    "### 1.2.3 切片、切割\n",
    "**切片：使用对象[start:end:step]来进行提取元素的方法。**  \n",
    "**切割：使用对象.split('')来分割字符串的方法。**"
   ]
  },
  {
   "cell_type": "code",
   "execution_count": 3,
   "id": "c66d9eed-876e-4134-8119-e686c287194c",
   "metadata": {},
   "outputs": [
    {
     "name": "stdout",
     "output_type": "stream",
     "text": [
      "1111123\n",
      "11111231111123\n",
      "1111111111\n",
      "\"smdmwe\"\n",
      "0\n",
      "1\n",
      "以下是切片部分\n",
      "2\n",
      "trewq43\n",
      "1234qwert\n",
      "1234qwert\n",
      "t\n",
      "['1', '31', '31', '3']\n"
     ]
    }
   ],
   "source": [
    "# 增加\n",
    "s = s + '123'   # 使用 + 来增加\n",
    "print(s)\n",
    "s = s*2        # 使用* 来增加\n",
    "print(s)\n",
    "# 改变\n",
    "s= s.replace('123','1')   # 改变元素\n",
    "print(s)\n",
    "# s[0:2] = '2' 改变字符串元素错误\n",
    "# print(s)   \n",
    "# 删除\n",
    "m = '=- smdmwe -='\n",
    "m = m.strip(' -=')\n",
    "print('\\\"'+m+'\\\"')\n",
    "# 查找\n",
    "n = s.find('1')  # 查找索引\n",
    "print(n)\n",
    "print(s[n])     # 查找元素\n",
    "\n",
    "# 切片\n",
    "print('以下是切片部分')\n",
    "tp = '1234qwert'\n",
    "print(tp[1])\n",
    "print(tp[:1:-1])\n",
    "print(tp[:])\n",
    "print(tp[::1])\n",
    "print(tp[-1])\n",
    "# 切割\n",
    "str1 = '123123123'\n",
    "l1 = str1.split('2')\n",
    "print(l1)"
   ]
  },
  {
   "cell_type": "markdown",
   "id": "e362b03f-97c2-4575-adc2-77ff57fe8a5e",
   "metadata": {},
   "source": [
    "## 1.3 列表\n",
    "### 1.3.1 内置函数\n",
    "- type 类型\n",
    "- len 长度\n",
    "- list 转化成列表\n",
    "- in/ not in 判断后者是否包含前者\n",
    "\n",
    "### 1.3.2 增删改查\n",
    "**增加** \n",
    "- insert(索引,元素)    # 只当成一个位置进行插入      2参数\n",
    "- append(元素）        # 只当成一个元素进行追加      1参数\n",
    "- extend(n)           # 可弄成多个元素进行追加      1参数   \n",
    "- list1`+`list2       # 相当于list1.extend（list2）\n",
    "- list`*`int          # 重复int次\n",
    "\n",
    "**删除**\n",
    "- del list[:]         # 删除指定区域的元素\n",
    "- list[:] = []        # 删除指定区域的元素\n",
    "- list.remove(index)  # 删除指定索引的元素   **第一个匹配结果**\n",
    "- list.pop(index)     # 删除指定索引的元素   **重点：并将删除元素作为返回值（return一下）**\n",
    "\n",
    "**改变**\n",
    "- list[:] = [n,n1,....]     # 替换指定区域的元素   **重点：两边的长度不一定相等**\n",
    "\n",
    "**查**\n",
    "- list.inedex(元素)         # 返回指定元素索引     **找不到报错**\n",
    " \n",
    "### 1.3.3 对象其他操作\n",
    "- list.count()              # 重复次数\n",
    "- list.reverse()            # 逆序排列\n",
    "- list.sort()               # 排序  **默认reverse=False升序排列  当reverse为True的时候，降序排列。**"
   ]
  },
  {
   "cell_type": "code",
   "execution_count": 15,
   "id": "ed26188d-dfa6-44d5-9052-d87b23a42984",
   "metadata": {},
   "outputs": [
    {
     "name": "stdout",
     "output_type": "stream",
     "text": [
      "原来的列表： [1, 3, 3]\n",
      "添加字符后的列表： [1, 3, 3, 'k', 'h']\n",
      "添加数组后的列表： [1, 3, 3, 'k', 'h', 'sm', 'm']\n",
      "指定插入后的列表： [1, 3, 'm', 3, 'k', 'h', 'sm', 'm']\n",
      "指定插入数组后的列表： [1, 3, 'm', [1, 3], 3, 'k', 'h', 'sm', 'm']\n",
      "添加字符后的列表： [1, 3, 'm', [1, 3], 3, 'k', 'h', 'sm', 'm', '是']\n",
      "添加数组后的列表 [1, 3, 'm', [1, 3], 3, 'k', 'h', 'sm', 'm', '是', [True, False]]\n"
     ]
    }
   ],
   "source": [
    "# 增加\n",
    "l = [1,3,3]\n",
    "print('原来的列表：',l)\n",
    "l.extend('kh')\n",
    "print('添加字符后的列表：',l)\n",
    "l.extend(['sm','m'])\n",
    "print('添加数组后的列表：',l)\n",
    "\n",
    "l.insert(2,'m')\n",
    "print('指定插入后的列表：',l)\n",
    "l.insert(3,[1,3])\n",
    "print('指定插入数组后的列表：',l)\n",
    "\n",
    "l.append('是')\n",
    "print('添加字符后的列表：',l)\n",
    "l.append([True,False])\n",
    "print('添加数组后的列表',l)\n"
   ]
  },
  {
   "cell_type": "code",
   "execution_count": null,
   "id": "2e434c45-0d57-4e07-a0f3-03a3acde5224",
   "metadata": {},
   "outputs": [],
   "source": []
  }
 ],
 "metadata": {
  "kernelspec": {
   "display_name": "Python 3 (ipykernel)",
   "language": "python",
   "name": "python3"
  },
  "language_info": {
   "codemirror_mode": {
    "name": "ipython",
    "version": 3
   },
   "file_extension": ".py",
   "mimetype": "text/x-python",
   "name": "python",
   "nbconvert_exporter": "python",
   "pygments_lexer": "ipython3",
   "version": "3.8.6"
  }
 },
 "nbformat": 4,
 "nbformat_minor": 5
}
